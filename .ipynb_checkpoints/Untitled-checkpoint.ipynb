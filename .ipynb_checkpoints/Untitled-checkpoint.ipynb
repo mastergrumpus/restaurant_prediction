{
 "cells": [
  {
   "cell_type": "code",
   "execution_count": 1,
   "id": "bc8fa26d-39fc-4f14-a9ce-8223dabfafc6",
   "metadata": {},
   "outputs": [],
   "source": [
    "import pandas as pd\n",
    "import numpy as np\n",
    "import json"
   ]
  },
  {
   "cell_type": "code",
   "execution_count": 118,
   "id": "438b5d2b-6b46-4eeb-87b2-4ed533daef0d",
   "metadata": {},
   "outputs": [],
   "source": [
    "data_yelp_business = open('Data/yelp_academic_dataset_business.json', encoding = 'utf-8')\n",
    "data_business = []\n",
    "for line in data_yelp_business:\n",
    "    data_business.append(json.loads(line))\n",
    "business_df = pd.DataFrame(data_business)\n",
    "data_yelp_business.close()"
   ]
  },
  {
   "cell_type": "code",
   "execution_count": 119,
   "id": "757ce7d7-131e-4769-8eba-6f9f5ecf0544",
   "metadata": {},
   "outputs": [
    {
     "name": "stdout",
     "output_type": "stream",
     "text": [
      "<class 'pandas.core.frame.DataFrame'>\n",
      "Int64Index: 136176 entries, 0 to 150345\n",
      "Data columns (total 14 columns):\n",
      " #   Column        Non-Null Count   Dtype  \n",
      "---  ------        --------------   -----  \n",
      " 0   business_id   136176 non-null  object \n",
      " 1   name          136176 non-null  object \n",
      " 2   address       136176 non-null  object \n",
      " 3   city          136176 non-null  object \n",
      " 4   state         136176 non-null  object \n",
      " 5   postal_code   136176 non-null  Int64  \n",
      " 6   latitude      136176 non-null  float64\n",
      " 7   longitude     136176 non-null  float64\n",
      " 8   stars         136176 non-null  float64\n",
      " 9   review_count  136176 non-null  int64  \n",
      " 10  is_open       136176 non-null  int64  \n",
      " 11  attributes    123811 non-null  object \n",
      " 12  categories    136083 non-null  object \n",
      " 13  hours         115425 non-null  object \n",
      "dtypes: Int64(1), float64(3), int64(2), object(8)\n",
      "memory usage: 15.7+ MB\n"
     ]
    }
   ],
   "source": [
    "business_df['postal_code'] = pd.to_numeric(business_df['postal_code'], errors='coerce')\n",
    "business_df['postal_code'] = business_df['postal_code'].astype('Int64')\n",
    "business_df = business_df.dropna(subset=['postal_code'])\n",
    "business_df = business_df[business_df['postal_code'].apply(lambda x: len(str(x))) == 5]\n",
    "business_df.info()"
   ]
  },
  {
   "cell_type": "code",
   "execution_count": 121,
   "id": "32b6bff8-7432-45ab-80f2-9b907bfaec0d",
   "metadata": {},
   "outputs": [
    {
     "data": {
      "text/plain": [
       "61862"
      ]
     },
     "execution_count": 121,
     "metadata": {},
     "output_type": "execute_result"
    }
   ],
   "source": [
    "zip_codes = business_df['postal_code'].value_counts()\n",
    "top100_zip_codes = zip_codes.head(100)\n",
    "top100_zip_codes.sum()"
   ]
  },
  {
   "cell_type": "code",
   "execution_count": 122,
   "id": "fabe9a41-c9c9-4929-8856-09ed5324240b",
   "metadata": {},
   "outputs": [
    {
     "name": "stdout",
     "output_type": "stream",
     "text": [
      "<class 'pandas.core.frame.DataFrame'>\n",
      "Int64Index: 61862 entries, 0 to 150343\n",
      "Data columns (total 14 columns):\n",
      " #   Column        Non-Null Count  Dtype  \n",
      "---  ------        --------------  -----  \n",
      " 0   business_id   61862 non-null  object \n",
      " 1   name          61862 non-null  object \n",
      " 2   address       61862 non-null  object \n",
      " 3   city          61862 non-null  object \n",
      " 4   state         61862 non-null  object \n",
      " 5   postal_code   61862 non-null  Int64  \n",
      " 6   latitude      61862 non-null  float64\n",
      " 7   longitude     61862 non-null  float64\n",
      " 8   stars         61862 non-null  float64\n",
      " 9   review_count  61862 non-null  int64  \n",
      " 10  is_open       61862 non-null  int64  \n",
      " 11  attributes    56471 non-null  object \n",
      " 12  categories    61828 non-null  object \n",
      " 13  hours         52539 non-null  object \n",
      "dtypes: Int64(1), float64(3), int64(2), object(8)\n",
      "memory usage: 7.1+ MB\n"
     ]
    }
   ],
   "source": [
    "business_df = business_df[business_df['postal_code'].isin(top100_zip_codes.index)]\n",
    "business_df.info()"
   ]
  },
  {
   "cell_type": "code",
   "execution_count": 123,
   "id": "6ee20552-52ca-45e3-817e-5035476e7cfe",
   "metadata": {},
   "outputs": [],
   "source": [
    "def split_into_list(string):\n",
    "    category_list = string.split(',')\n",
    "    category_list = [x.strip() for x in category_list]\n",
    "    return category_list\n",
    "def is_a_restaurant(lst):\n",
    "    return any(\"Restaurants\" in x for x in lst)\n",
    "\n",
    "business_df['categories'] = business_df['categories'].astype(str)\n",
    "business_df['categories'] = business_df['categories'].apply(split_into_list)\n",
    "mask = business_df['categories'].apply(is_a_restaurant)\n",
    "restaurant_df = business_df[mask]"
   ]
  },
  {
   "cell_type": "code",
   "execution_count": 124,
   "id": "a041cdbd-1fb9-440f-861e-df437da3ff85",
   "metadata": {},
   "outputs": [
    {
     "name": "stdout",
     "output_type": "stream",
     "text": [
      "<class 'pandas.core.frame.DataFrame'>\n",
      "Int64Index: 20059 entries, 3 to 150336\n",
      "Data columns (total 14 columns):\n",
      " #   Column        Non-Null Count  Dtype  \n",
      "---  ------        --------------  -----  \n",
      " 0   business_id   20059 non-null  object \n",
      " 1   name          20059 non-null  object \n",
      " 2   address       20059 non-null  object \n",
      " 3   city          20059 non-null  object \n",
      " 4   state         20059 non-null  object \n",
      " 5   postal_code   20059 non-null  Int64  \n",
      " 6   latitude      20059 non-null  float64\n",
      " 7   longitude     20059 non-null  float64\n",
      " 8   stars         20059 non-null  float64\n",
      " 9   review_count  20059 non-null  int64  \n",
      " 10  is_open       20059 non-null  int64  \n",
      " 11  attributes    19870 non-null  object \n",
      " 12  categories    20059 non-null  object \n",
      " 13  hours         17410 non-null  object \n",
      "dtypes: Int64(1), float64(3), int64(2), object(8)\n",
      "memory usage: 2.3+ MB\n"
     ]
    }
   ],
   "source": [
    "restaurant_df.info()"
   ]
  },
  {
   "cell_type": "code",
   "execution_count": null,
   "id": "c7d3cd19-2d3c-4519-a093-27eb1cfeb140",
   "metadata": {},
   "outputs": [],
   "source": []
  }
 ],
 "metadata": {
  "kernelspec": {
   "display_name": "Python (learn-env)",
   "language": "python",
   "name": "learn-env"
  },
  "language_info": {
   "codemirror_mode": {
    "name": "ipython",
    "version": 3
   },
   "file_extension": ".py",
   "mimetype": "text/x-python",
   "name": "python",
   "nbconvert_exporter": "python",
   "pygments_lexer": "ipython3",
   "version": "3.8.5"
  }
 },
 "nbformat": 4,
 "nbformat_minor": 5
}
