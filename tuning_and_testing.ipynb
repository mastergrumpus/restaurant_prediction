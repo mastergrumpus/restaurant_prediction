{
 "cells": [
  {
   "cell_type": "code",
   "execution_count": 11,
   "id": "0fc04295-fea8-4848-8428-013219884af6",
   "metadata": {},
   "outputs": [],
   "source": [
    "import pandas as pd\n",
    "import numpy as np\n",
    "import matplotlib.pyplot as plt\n",
    "import time\n",
    "import random\n",
    "import pickle\n",
    "%matplotlib inline\n",
    "\n",
    "from scipy.stats import randint, uniform\n",
    "\n",
    "from functions import evaluate_model, runtime, optimal_parameters\n",
    "from preprocessor_class import Preprocessor\n",
    "\n",
    "from sklearn.pipeline import Pipeline\n",
    "from sklearn.model_selection import train_test_split, RandomizedSearchCV\n",
    "from sklearn.feature_extraction.text import TfidfVectorizer\n",
    "from sklearn.naive_bayes import MultinomialNB, ComplementNB\n",
    "from sklearn.ensemble import AdaBoostClassifier, RandomForestClassifier, ExtraTreesClassifier\n",
    "\n",
    "from xgboost import XGBClassifier"
   ]
  },
  {
   "cell_type": "code",
   "execution_count": 2,
   "id": "957a7b40-48b3-4dfd-be52-399c0019fc7f",
   "metadata": {},
   "outputs": [],
   "source": [
    "df = pd.read_csv('Data/prepared_text_data_sugar.csv')"
   ]
  },
  {
   "cell_type": "markdown",
   "id": "23a5a0b1-a3a2-4df5-ac6e-5f3cac0b6211",
   "metadata": {},
   "source": [
    "#### Preprocessing and Vectorizing Text\n",
    "\n",
    "The process for preprocessing can be found in the preprocessor_class.py file in the repo.  I chose to use stemming instead of lemmatization because there isn't much sentence structure within the data and most of the words aren't following traditional grammar structures.  After pre-processing, I used TF-IDF Vectorizer to transform the data.  TF-IDF was used due to the imbalance of frequency of word tokens amonget the documents."
   ]
  },
  {
   "cell_type": "code",
   "execution_count": 3,
   "id": "13ce0ccf-e07d-44a9-ab5d-f6e92495fc06",
   "metadata": {},
   "outputs": [
    {
     "name": "stdout",
     "output_type": "stream",
     "text": [
      "Runtime: 28.59 seconds\n"
     ]
    }
   ],
   "source": [
    "start = time.time()\n",
    "\n",
    "X = df['text']\n",
    "y = df['sugar_class']\n",
    "\n",
    "X_train_raw, X_test_raw, y_train, y_test = train_test_split(X, y, test_size = 0.2, random_state = 200)\n",
    "processor = Preprocessor()\n",
    "X_train_transformed = processor.fit_transform(X_train_raw)\n",
    "X_test_transformed = processor.transform(X_test_raw)\n",
    "\n",
    "vector_pipe = Pipeline([('tfidf', TfidfVectorizer())])\n",
    "X_train_vector = vector_pipe.fit_transform(X_train_transformed)\n",
    "X_test_vector = vector_pipe.transform(X_test_transformed)\n",
    "X_train = pd.DataFrame(X_train_vector.toarray(), columns = vector_pipe['tfidf'].get_feature_names())\n",
    "X_test = pd.DataFrame(X_test_vector.toarray(), columns = vector_pipe['tfidf'].get_feature_names())\n",
    "\n",
    "end = time.time()\n",
    "runtime(start, end)"
   ]
  },
  {
   "cell_type": "markdown",
   "id": "be8f888a-0553-4161-850f-4d6d850344ef",
   "metadata": {},
   "source": [
    "#### Naive-Bayes\n",
    "\n",
    "The first model I tested was Naive-Bayes.  Naive-Bayes models are simplistic and quick and I was mostly interested in making sure the data was processed in a way such that even a simple model would be able to make predictions.  These models were not going to be the most accurate since they fail to capture the complexity in the text.  Most importantly, they also assume independence of all the features which is impractical when most chain restaurants each have their own naming conventions and commonly used words in their descriptions."
   ]
  },
  {
   "cell_type": "code",
   "execution_count": 4,
   "id": "c3505c86-490a-4b60-bfd6-ec68acda615d",
   "metadata": {},
   "outputs": [
    {
     "name": "stdout",
     "output_type": "stream",
     "text": [
      "Weighted F1 Score (Train): 0.6212111836356373\n",
      "Weighted F1 Score (Test): 0.5972080347980728\n",
      "Log Loss (Train):  0.9549909011956518\n",
      "Log Loss (Test):  0.9957786112658091\n",
      "Runtime: 1.87 seconds\n"
     ]
    }
   ],
   "source": [
    "start = time.time()\n",
    "\n",
    "multinb = MultinomialNB()\n",
    "multinb.fit(X_train, y_train)\n",
    "evaluate_model(multinb, X_train, X_test, y_train, y_test)\n",
    "\n",
    "end = time.time()\n",
    "runtime(start, end)"
   ]
  },
  {
   "cell_type": "code",
   "execution_count": 13,
   "id": "2952e28b-a685-48fb-8509-890a1e720b7f",
   "metadata": {},
   "outputs": [],
   "source": [
    "pickle.dump(multinb, open('Models/multinb.pkl', 'wb'))"
   ]
  },
  {
   "cell_type": "code",
   "execution_count": 27,
   "id": "89636af5-aecd-4f71-9576-7fea2987ffcd",
   "metadata": {},
   "outputs": [
    {
     "name": "stdout",
     "output_type": "stream",
     "text": [
      "Weighted F1 Score (Train): 0.6213017421588308\n",
      "Weighted F1 Score (Test): 0.5899218279290591\n",
      "Log Loss (Train):  1.1305859684487711\n",
      "Log Loss (Test):  1.1607146381800075\n",
      "Runtime: 3.74 seconds\n"
     ]
    }
   ],
   "source": [
    "start = time.time()\n",
    "\n",
    "compnb = ComplementNB()\n",
    "compnb.fit(X_train, y_train)\n",
    "evaluate_model(compnb, X_train, X_test, y_train, y_test)\n",
    "\n",
    "end = time.time()\n",
    "runtime(start, end)"
   ]
  },
  {
   "cell_type": "code",
   "execution_count": 14,
   "id": "e4c2d9c2-828e-4d14-8ac4-5d1d02315188",
   "metadata": {},
   "outputs": [],
   "source": [
    "pickle.dump(compnb, open('Models/compnb.pkl', 'wb'))"
   ]
  },
  {
   "cell_type": "markdown",
   "id": "23796fc9-683f-47d9-9fa9-5542df7fc937",
   "metadata": {},
   "source": [
    "#### Creating a Subset\n",
    "\n",
    "Before exploring the gradient boosting and ensemble methods, I created a subset of data to test each with.  Because some of the models would take hours to run and I also wanted to run each model several times to tune hyperparameters and test different techniques, I used the following code to create a dataset with only 20,000 rows, which is a little over 1/3 of the actual dataset."
   ]
  },
  {
   "cell_type": "code",
   "execution_count": 6,
   "id": "47761555-3153-4d36-adab-37f38280bf1a",
   "metadata": {},
   "outputs": [
    {
     "name": "stdout",
     "output_type": "stream",
     "text": [
      "Runtime: 10.56 seconds\n"
     ]
    }
   ],
   "source": [
    "start = time.time()\n",
    "\n",
    "lines_to_skip = sorted(random.sample(range(1, 52932), 32931))\n",
    "subset = pd.read_csv('Data/prepared_text_data_sugar.csv', skiprows = lines_to_skip)\n",
    "\n",
    "X_sub = subset['text']\n",
    "y_sub = subset['sugar_class']\n",
    "X_train_sub_raw, X_test_sub_raw, y_train_sub, y_test_sub = train_test_split(X_sub, y_sub, test_size = 0.2, random_state = 100)\n",
    "X_train_transformed_sub = processor.fit_transform(X_train_sub_raw)\n",
    "X_test_transformed_sub = processor.transform(X_test_sub_raw)\n",
    "\n",
    "vector_pipe_sub = Pipeline([('tfidf', TfidfVectorizer())])\n",
    "X_train_vector_sub = vector_pipe_sub.fit_transform(X_train_transformed_sub)\n",
    "X_test_vector_sub = vector_pipe_sub.transform(X_test_transformed_sub)\n",
    "X_train_sub = pd.DataFrame(X_train_vector_sub.toarray(), columns = vector_pipe_sub['tfidf'].get_feature_names())\n",
    "X_test_sub = pd.DataFrame(X_test_vector_sub.toarray(), columns = vector_pipe_sub['tfidf'].get_feature_names())\n",
    "\n",
    "end = time.time()\n",
    "runtime(start, end)"
   ]
  },
  {
   "cell_type": "markdown",
   "id": "6033e6eb-55ac-4878-97af-ef3106b6a78c",
   "metadata": {},
   "source": [
    "#### AdaBoost\n",
    "\n",
    "AdaBoost didn't perform very well.  It performed even worse than the Naive-Bayes models!  Although there are a lot of opportunities to tune the model to increase the score, I skipped AdaBoost and instead focused on the models that showed more promise."
   ]
  },
  {
   "cell_type": "code",
   "execution_count": 7,
   "id": "3c927a40-58f4-47c3-978c-109170e90a5c",
   "metadata": {},
   "outputs": [
    {
     "name": "stdout",
     "output_type": "stream",
     "text": [
      "Weighted F1 Score (Train): 0.5058108033195972\n",
      "Weighted F1 Score (Test): 0.5048187104573842\n",
      "Log Loss (Train):  1.5616033670057248\n",
      "Log Loss (Test):  1.5606526163170646\n",
      "Runtime: 1 minute, 52.78 seconds\n"
     ]
    }
   ],
   "source": [
    "start = time.time()\n",
    "\n",
    "ada = AdaBoostClassifier(random_state = 100)\n",
    "ada.fit(X_train_sub, y_train_sub)\n",
    "evaluate_model(ada, X_train_sub, X_test_sub, y_train_sub, y_test_sub)\n",
    "\n",
    "end = time.time()\n",
    "runtime(start, end)"
   ]
  },
  {
   "cell_type": "code",
   "execution_count": 15,
   "id": "dc02c3ca-9fcf-4b61-a2a5-86840d3cfd1d",
   "metadata": {},
   "outputs": [],
   "source": [
    "pickle.dump(ada, open('Models/adaboost.pkl', 'wb'))"
   ]
  },
  {
   "cell_type": "markdown",
   "id": "c18c2eef-3ff5-4ab4-95ba-0c96332d7bba",
   "metadata": {},
   "source": [
    "#### XGBoost\n",
    "\n",
    "XGBoost performed much better than AdaBoost.  This model showed signs of overfitting, but the predictions are better.  The baseline model had a f1 score on the test set of ~0.67, which is an improvement from the previous models.  Since it showed the most potential, I ran a RandomizedSearchCV to find the optimal hyperparameter values for the XGBoost model."
   ]
  },
  {
   "cell_type": "code",
   "execution_count": 8,
   "id": "4e67f17f-6cf8-4544-8516-c7f7433b57f4",
   "metadata": {},
   "outputs": [
    {
     "name": "stdout",
     "output_type": "stream",
     "text": [
      "Weighted F1 Score (Train): 0.8332636876335159\n",
      "Weighted F1 Score (Test): 0.6704114058056506\n",
      "Log Loss (Train):  0.5822602451610074\n",
      "Log Loss (Test):  0.8254294480487588\n",
      "Runtime: 4 minutes, 24.19 seconds\n"
     ]
    }
   ],
   "source": [
    "start = time.time()\n",
    "\n",
    "xgb = XGBClassifier(random_state = 100)\n",
    "xgb.fit(X_train_sub, y_train_sub)\n",
    "evaluate_model(xgb, X_train_sub, X_test_sub, y_train_sub, y_test_sub)\n",
    "\n",
    "end = time.time()\n",
    "runtime(start, end)"
   ]
  },
  {
   "cell_type": "code",
   "execution_count": 16,
   "id": "c8918e02-d9fa-4704-9836-13283f63836c",
   "metadata": {},
   "outputs": [],
   "source": [
    "pickle.dump(xgb, open('Models/xgboost_baseline.pkl', 'wb'))"
   ]
  },
  {
   "cell_type": "code",
   "execution_count": 18,
   "id": "c662b772-989c-43a1-b1e3-632548fa761b",
   "metadata": {},
   "outputs": [
    {
     "name": "stdout",
     "output_type": "stream",
     "text": [
      "Weighted F1 Score (Train): 0.8352034834358328\n",
      "Weighted F1 Score (Test): 0.6710423270143651\n",
      "Log Loss (Train):  0.5701046454606002\n",
      "Log Loss (Test):  0.8188401657453506\n",
      "Runtime: 1 hour, 25 minutes, 33.71 seconds\n"
     ]
    }
   ],
   "source": [
    "start = time.time()\n",
    "\n",
    "xgb_params = {\n",
    "    'learning_rate': uniform(0.1, 0.2),\n",
    "    'max_depth': randint(3, 9),\n",
    "    'min_child_weight': randint(1, 3),\n",
    "}\n",
    "\n",
    "search_xgb = RandomizedSearchCV(xgb, xgb_params, scoring = 'f1_weighted', n_jobs = 1, random_state = 100)\n",
    "search_xgb.fit(X_train_sub, y_train_sub)\n",
    "\n",
    "evaluate_model(search_xgb, X_train_sub, X_test_sub, y_train_sub, y_test_sub)\n",
    "\n",
    "end = time.time()\n",
    "runtime(start, end)"
   ]
  },
  {
   "cell_type": "code",
   "execution_count": 20,
   "id": "5c5f9697-e7f8-4528-a94e-a4780c9837e2",
   "metadata": {},
   "outputs": [
    {
     "name": "stdout",
     "output_type": "stream",
     "text": [
      "Randomized Search found the following optimal parameters: \n",
      "learning_rate: 0.27402852710350356\n",
      "max_depth: 7\n",
      "min_child_weight: 2\n",
      "\n"
     ]
    }
   ],
   "source": [
    "best_parameters_xgb = search_xgb.best_params_\n",
    "print('Randomized Search found the following optimal parameters: ')\n",
    "for param_name in sorted(best_parameters_xgb.keys()):\n",
    "    print('%s: %r' % (param_name, best_parameters_xgb[param_name]))\n",
    "print(\"\")"
   ]
  },
  {
   "cell_type": "code",
   "execution_count": 21,
   "id": "6ad27554-9f04-4fb9-899a-16611112f003",
   "metadata": {},
   "outputs": [],
   "source": [
    "pickle.dump(search_xgb, open('Models/xgb_search.pkl', 'wb'))"
   ]
  },
  {
   "cell_type": "code",
   "execution_count": 107,
   "id": "beccfc11-18b7-40ab-b0f8-1a652164eef5",
   "metadata": {},
   "outputs": [],
   "source": [
    "xgb_results = search_xgb.cv_results_\n",
    "df_xgb_results = pd.DataFrame(xgb_results)"
   ]
  },
  {
   "cell_type": "code",
   "execution_count": 129,
   "id": "40839b84-4b3b-49d8-b01b-e85971bacc40",
   "metadata": {},
   "outputs": [
    {
     "data": {
      "image/png": "[encoded data removed]",
      "text/plain": [
       "<Figure size 1296x432 with 3 Axes>"
      ]
     },
     "metadata": {},
     "output_type": "display_data"
    }
   ],
   "source": [
    "fig, axs = plt.subplots(1, 3, figsize = (18, 6), facecolor = 'black')\n",
    "\n",
    "df_xgb_results_sorted_lr = df_xgb_results.sort_values(by = 'param_learning_rate')\n",
    "colors_learning_rate_xgb = ['red', 'darkorange', 'firebrick', 'red', 'greenyellow', 'greenyellow', 'gold', 'green', 'green', 'gold']\n",
    "opt_learning_rate_xgb = 0.27403\n",
    "axs[0].scatter(df_xgb_results_sorted_lr['param_learning_rate'], df_xgb_results_sorted_lr['mean_test_score'], marker = 'o', s = 100, color = colors_learning_rate_xgb, zorder = 1)\n",
    "axs[0].plot(df_xgb_results_sorted_lr['param_learning_rate'], df_xgb_results_sorted_lr['mean_test_score'], color = 'black', zorder = 2)\n",
    "axs[0].axvline(x = opt_learning_rate_xgb, linestyle = '--', color = 'green')\n",
    "axs[0].set_title('Learning Rate', color = 'white', fontsize = 16)\n",
    "axs[0].set_xlabel('Learning Rate', color = 'white', fontsize = 12)\n",
    "axs[0].set_ylabel('Mean F1 Test Score', color = 'white', fontsize = 12)\n",
    "axs[0].tick_params(axis = 'x', colors = 'white', labelsize = 10)\n",
    "axs[0].tick_params(axis = 'y', colors = 'white', labelsize = 8)\n",
    "axs[0].grid(True)\n",
    "axs[0].text(0.272, 0.656, f'Optimal Learning Rate: {opt_learning_rate_xgb}', color = 'red', ha = 'right', va = 'bottom', zorder = 3)\n",
    "\n",
    "df_xgb_results_sorted_md = df_xgb_results.sort_values(by = 'param_max_depth')\n",
    "colors_max_depth_xgb = ['red', 'red', 'darkorange', 'gold', 'gold', 'gold', 'greenyellow', 'greenyellow', 'green', 'green']\n",
    "opt_max_depth_xgb = 7\n",
    "avg_md = {3: 0.591923, 4: 0.639634, 5: 0.625361, 6: 0.6496545, 7: 0.6656015}\n",
    "axs[1].scatter(df_xgb_results_sorted_md['param_max_depth'], df_xgb_results_sorted_md['mean_test_score'], color = colors_max_depth_xgb)\n",
    "axs[1].plot(avg_md.keys(), avg_md.values(), color = 'black')\n",
    "axs[1].axvline(x = opt_max_depth_xgb, linestyle = '--', color = 'green')\n",
    "axs[1].set_title('Max Depth', color = 'white', fontsize = 16)\n",
    "axs[1].set_xlabel('Depth', color = 'white', fontsize = 12)\n",
    "axs[1].set_ylabel('Mean F1 Test Score', color = 'white', fontsize = 12)\n",
    "axs[1].tick_params(axis = 'x', colors = 'white', labelsize = 10)\n",
    "axs[1].tick_params(axis = 'y', colors = 'white', labelsize = 8)\n",
    "axs[1].text(6.9, 0.656, f'Optimal Max Depth: {opt_max_depth_xgb}', color = 'red', ha = 'right', va = 'bottom', zorder = 3)\n",
    "axs[1].grid(True)\n",
    "\n",
    "df_xgb_results_sorted_mcw = df_xgb_results.sort_values(by = 'param_min_child_weight')\n",
    "colors_min_child_weight_xgb = ['red', 'red', 'green', 'green', 'green', 'green', 'green', 'green', 'green', 'green']\n",
    "opt_min_child_weight_xgb = 2\n",
    "axs[2].scatter(df_xgb_results_sorted_mcw['param_min_child_weight'], df_xgb_results_sorted_mcw['mean_test_score'], color = colors_min_child_weight_xgb)\n",
    "axs[2].set_title('Min Child Weight', color = 'white', fontsize = 16)\n",
    "axs[2].set_xlabel('Child Weight', color = 'white', fontsize = 12)\n",
    "axs[2].set_ylabel('Mean F1 Test Score', color = 'white', fontsize = 12)\n",
    "axs[2].tick_params(axis = 'x', colors = 'white', labelsize = 10)\n",
    "axs[2].tick_params(axis = 'y', colors = 'white', labelsize = 8)\n",
    "axs[2].text(1.95, 0.656, f'Optimal Min Child Weight: {opt_min_child_weight_xgb}', color = 'red', ha = 'right', va = 'bottom', zorder = 3)\n",
    "axs[2].grid(True)\n",
    "\n",
    "plt.savefig('Images/xgb_hyperparamer_tuning_results.png')\n",
    "plt.show()"
   ]
  },
  {
   "cell_type": "markdown",
   "id": "1d5539f5-05e2-44f3-ae94-ec650d19bef7",
   "metadata": {},
   "source": [
    "#### Random Forest Classifier\n",
    "\n",
    "The next model I examined was Random Forest Classifier.  This model was is much quicker than a boosting model and may have more interpretable results.  It did pretty well on predictions, but it is very clearly overfit."
   ]
  },
  {
   "cell_type": "code",
   "execution_count": 22,
   "id": "36e2bef3-3952-4ace-9cbb-8bc1ce62af4c",
   "metadata": {},
   "outputs": [
    {
     "name": "stdout",
     "output_type": "stream",
     "text": [
      "Weighted F1 Score (Train): 0.9905601664501414\n",
      "Weighted F1 Score (Test): 0.7035435218596305\n",
      "Log Loss (Train):  0.19109601678281762\n",
      "Log Loss (Test):  0.8009380725751764\n",
      "Runtime: 1 minute, 11.93 seconds\n"
     ]
    }
   ],
   "source": [
    "start = time.time()\n",
    "\n",
    "rfc = RandomForestClassifier(random_state = 100)\n",
    "rfc.fit(X_train_sub, y_train_sub)\n",
    "evaluate_model(rfc, X_train_sub, X_test_sub, y_train_sub, y_test_sub)\n",
    "\n",
    "end = time.time()\n",
    "runtime(start, end)"
   ]
  },
  {
   "cell_type": "code",
   "execution_count": 23,
   "id": "472cde3d-4725-4ace-a7c8-0f96e379c5e9",
   "metadata": {},
   "outputs": [],
   "source": [
    "pickle.dump(rfc, open('Models/randomforest_baseline.pkl', 'wb'))"
   ]
  },
  {
   "cell_type": "code",
   "execution_count": 135,
   "id": "562d5570-e3c6-42bc-83e7-ecda3fd56fc0",
   "metadata": {},
   "outputs": [
    {
     "name": "stdout",
     "output_type": "stream",
     "text": [
      "Weighted F1 Score (Train): 0.8385604889630827\n",
      "Weighted F1 Score (Test): 0.6571059696458239\n",
      "Log Loss (Train):  0.690418376680256\n",
      "Log Loss (Test):  0.8923159470582819\n",
      "Runtime: 25 minutes, 51.62 seconds\n"
     ]
    }
   ],
   "source": [
    "start = time.time()\n",
    "\n",
    "rfc_params = {\n",
    "    'criterion': ['gini'],\n",
    "    'max_depth': [None, 7, 8, 9, 10],\n",
    "    'n_estimators':  [100, 200, 300, 400, 500],\n",
    "    'min_samples_split':  [2, 3, 4, 5],\n",
    "    'min_samples_leaf':  [1, 2],\n",
    "}\n",
    "\n",
    "search_rfc = RandomizedSearchCV(rfc, rfc_params, scoring = 'f1_weighted', n_jobs = 1, random_state = 200)\n",
    "search_rfc.fit(X_train_sub, y_train_sub)\n",
    "\n",
    "evaluate_model(search_rfc, X_train_sub, X_test_sub, y_train_sub, y_test_sub)\n",
    "\n",
    "end = time.time()\n",
    "runtime(start, end)"
   ]
  },
  {
   "cell_type": "code",
   "execution_count": 136,
   "id": "87a7635c-28fb-4600-a949-53be203ed819",
   "metadata": {},
   "outputs": [
    {
     "name": "stdout",
     "output_type": "stream",
     "text": [
      "Randomized Search found the following optimal parameters: \n",
      "criterion: 'gini'\n",
      "max_depth: None\n",
      "min_samples_leaf: 2\n",
      "min_samples_split: 2\n",
      "n_estimators: 300\n",
      "\n"
     ]
    }
   ],
   "source": [
    "best_parameters_rfc = search_rfc.best_params_\n",
    "print('Randomized Search found the following optimal parameters: ')\n",
    "for param_name in sorted(best_parameters_rfc.keys()):\n",
    "    print('%s: %r' % (param_name, best_parameters_rfc[param_name]))\n",
    "print(\"\")"
   ]
  },
  {
   "cell_type": "code",
   "execution_count": 137,
   "id": "2a2eebab-f602-443b-8d0a-ee51c6dcea79",
   "metadata": {},
   "outputs": [],
   "source": [
    "pickle.dump(search_rfc, open('Models/randomforest_search.pkl', 'wb'))"
   ]
  },
  {
   "cell_type": "code",
   "execution_count": 138,
   "id": "9be691a6-5c23-4378-8b26-aabf4a026c36",
   "metadata": {},
   "outputs": [],
   "source": [
    "rfc_results = search_rfc.cv_results_\n",
    "df_rfc_results = pd.DataFrame(rfc_results)"
   ]
  },
  {
   "cell_type": "code",
   "execution_count": 176,
   "id": "26bb826d-465e-48b5-9f3d-444a4c96eb1e",
   "metadata": {},
   "outputs": [
    {
     "data": {
      "text/html": [
       "<div>\n",
       "<style scoped>\n",
       "    .dataframe tbody tr th:only-of-type {\n",
       "        vertical-align: middle;\n",
       "    }\n",
       "\n",
       "    .dataframe tbody tr th {\n",
       "        vertical-align: top;\n",
       "    }\n",
       "\n",
       "    .dataframe thead th {\n",
       "        text-align: right;\n",
       "    }\n",
       "</style>\n",
       "<table border=\"1\" class=\"dataframe\">\n",
       "  <thead>\n",
       "    <tr style=\"text-align: right;\">\n",
       "      <th></th>\n",
       "      <th>mean_fit_time</th>\n",
       "      <th>std_fit_time</th>\n",
       "      <th>mean_score_time</th>\n",
       "      <th>std_score_time</th>\n",
       "      <th>param_n_estimators</th>\n",
       "      <th>param_min_samples_split</th>\n",
       "      <th>param_min_samples_leaf</th>\n",
       "      <th>param_max_depth</th>\n",
       "      <th>param_criterion</th>\n",
       "      <th>params</th>\n",
       "      <th>split0_test_score</th>\n",
       "      <th>split1_test_score</th>\n",
       "      <th>split2_test_score</th>\n",
       "      <th>split3_test_score</th>\n",
       "      <th>split4_test_score</th>\n",
       "      <th>mean_test_score</th>\n",
       "      <th>std_test_score</th>\n",
       "      <th>rank_test_score</th>\n",
       "    </tr>\n",
       "  </thead>\n",
       "  <tbody>\n",
       "    <tr>\n",
       "      <th>3</th>\n",
       "      <td>6.732989</td>\n",
       "      <td>0.435415</td>\n",
       "      <td>0.088491</td>\n",
       "      <td>0.007265</td>\n",
       "      <td>100</td>\n",
       "      <td>3</td>\n",
       "      <td>1</td>\n",
       "      <td>9</td>\n",
       "      <td>gini</td>\n",
       "      <td>{'n_estimators': 100, 'min_samples_split': 3, ...</td>\n",
       "      <td>0.453545</td>\n",
       "      <td>0.448898</td>\n",
       "      <td>0.457999</td>\n",
       "      <td>0.439104</td>\n",
       "      <td>0.453825</td>\n",
       "      <td>0.450674</td>\n",
       "      <td>0.006463</td>\n",
       "      <td>8</td>\n",
       "    </tr>\n",
       "    <tr>\n",
       "      <th>7</th>\n",
       "      <td>6.388730</td>\n",
       "      <td>0.131007</td>\n",
       "      <td>0.088898</td>\n",
       "      <td>0.003706</td>\n",
       "      <td>100</td>\n",
       "      <td>4</td>\n",
       "      <td>1</td>\n",
       "      <td>9</td>\n",
       "      <td>gini</td>\n",
       "      <td>{'n_estimators': 100, 'min_samples_split': 4, ...</td>\n",
       "      <td>0.454021</td>\n",
       "      <td>0.449870</td>\n",
       "      <td>0.461825</td>\n",
       "      <td>0.441026</td>\n",
       "      <td>0.463537</td>\n",
       "      <td>0.454056</td>\n",
       "      <td>0.008217</td>\n",
       "      <td>5</td>\n",
       "    </tr>\n",
       "    <tr>\n",
       "      <th>0</th>\n",
       "      <td>12.738151</td>\n",
       "      <td>0.463922</td>\n",
       "      <td>0.148031</td>\n",
       "      <td>0.027065</td>\n",
       "      <td>200</td>\n",
       "      <td>2</td>\n",
       "      <td>1</td>\n",
       "      <td>9</td>\n",
       "      <td>gini</td>\n",
       "      <td>{'n_estimators': 200, 'min_samples_split': 2, ...</td>\n",
       "      <td>0.450227</td>\n",
       "      <td>0.448159</td>\n",
       "      <td>0.456772</td>\n",
       "      <td>0.444031</td>\n",
       "      <td>0.468658</td>\n",
       "      <td>0.453569</td>\n",
       "      <td>0.008595</td>\n",
       "      <td>6</td>\n",
       "    </tr>\n",
       "    <tr>\n",
       "      <th>4</th>\n",
       "      <td>36.554266</td>\n",
       "      <td>0.925941</td>\n",
       "      <td>0.367730</td>\n",
       "      <td>0.085381</td>\n",
       "      <td>200</td>\n",
       "      <td>5</td>\n",
       "      <td>2</td>\n",
       "      <td>None</td>\n",
       "      <td>gini</td>\n",
       "      <td>{'n_estimators': 200, 'min_samples_split': 5, ...</td>\n",
       "      <td>0.649443</td>\n",
       "      <td>0.638216</td>\n",
       "      <td>0.636114</td>\n",
       "      <td>0.633838</td>\n",
       "      <td>0.632280</td>\n",
       "      <td>0.637978</td>\n",
       "      <td>0.006076</td>\n",
       "      <td>2</td>\n",
       "    </tr>\n",
       "    <tr>\n",
       "      <th>8</th>\n",
       "      <td>13.106792</td>\n",
       "      <td>0.552139</td>\n",
       "      <td>0.143569</td>\n",
       "      <td>0.014573</td>\n",
       "      <td>200</td>\n",
       "      <td>2</td>\n",
       "      <td>2</td>\n",
       "      <td>9</td>\n",
       "      <td>gini</td>\n",
       "      <td>{'n_estimators': 200, 'min_samples_split': 2, ...</td>\n",
       "      <td>0.445895</td>\n",
       "      <td>0.445215</td>\n",
       "      <td>0.454143</td>\n",
       "      <td>0.436408</td>\n",
       "      <td>0.454465</td>\n",
       "      <td>0.447225</td>\n",
       "      <td>0.006680</td>\n",
       "      <td>9</td>\n",
       "    </tr>\n",
       "    <tr>\n",
       "      <th>6</th>\n",
       "      <td>57.519620</td>\n",
       "      <td>1.468206</td>\n",
       "      <td>0.468200</td>\n",
       "      <td>0.027219</td>\n",
       "      <td>300</td>\n",
       "      <td>2</td>\n",
       "      <td>2</td>\n",
       "      <td>None</td>\n",
       "      <td>gini</td>\n",
       "      <td>{'n_estimators': 300, 'min_samples_split': 2, ...</td>\n",
       "      <td>0.649774</td>\n",
       "      <td>0.640381</td>\n",
       "      <td>0.641611</td>\n",
       "      <td>0.628188</td>\n",
       "      <td>0.631892</td>\n",
       "      <td>0.638369</td>\n",
       "      <td>0.007619</td>\n",
       "      <td>1</td>\n",
       "    </tr>\n",
       "    <tr>\n",
       "      <th>1</th>\n",
       "      <td>62.668085</td>\n",
       "      <td>57.900618</td>\n",
       "      <td>0.265276</td>\n",
       "      <td>0.012255</td>\n",
       "      <td>500</td>\n",
       "      <td>3</td>\n",
       "      <td>1</td>\n",
       "      <td>10</td>\n",
       "      <td>gini</td>\n",
       "      <td>{'n_estimators': 500, 'min_samples_split': 3, ...</td>\n",
       "      <td>0.464810</td>\n",
       "      <td>0.460600</td>\n",
       "      <td>0.462163</td>\n",
       "      <td>0.455479</td>\n",
       "      <td>0.463477</td>\n",
       "      <td>0.461306</td>\n",
       "      <td>0.003230</td>\n",
       "      <td>3</td>\n",
       "    </tr>\n",
       "    <tr>\n",
       "      <th>2</th>\n",
       "      <td>34.729358</td>\n",
       "      <td>2.465991</td>\n",
       "      <td>0.266497</td>\n",
       "      <td>0.007858</td>\n",
       "      <td>500</td>\n",
       "      <td>4</td>\n",
       "      <td>2</td>\n",
       "      <td>10</td>\n",
       "      <td>gini</td>\n",
       "      <td>{'n_estimators': 500, 'min_samples_split': 4, ...</td>\n",
       "      <td>0.463111</td>\n",
       "      <td>0.455227</td>\n",
       "      <td>0.456797</td>\n",
       "      <td>0.447911</td>\n",
       "      <td>0.457997</td>\n",
       "      <td>0.456209</td>\n",
       "      <td>0.004919</td>\n",
       "      <td>4</td>\n",
       "    </tr>\n",
       "    <tr>\n",
       "      <th>5</th>\n",
       "      <td>28.039471</td>\n",
       "      <td>1.163817</td>\n",
       "      <td>0.265420</td>\n",
       "      <td>0.052676</td>\n",
       "      <td>500</td>\n",
       "      <td>4</td>\n",
       "      <td>1</td>\n",
       "      <td>8</td>\n",
       "      <td>gini</td>\n",
       "      <td>{'n_estimators': 500, 'min_samples_split': 4, ...</td>\n",
       "      <td>0.440699</td>\n",
       "      <td>0.437453</td>\n",
       "      <td>0.448405</td>\n",
       "      <td>0.432877</td>\n",
       "      <td>0.443306</td>\n",
       "      <td>0.440548</td>\n",
       "      <td>0.005250</td>\n",
       "      <td>10</td>\n",
       "    </tr>\n",
       "    <tr>\n",
       "      <th>9</th>\n",
       "      <td>32.234004</td>\n",
       "      <td>1.485450</td>\n",
       "      <td>0.278158</td>\n",
       "      <td>0.011702</td>\n",
       "      <td>500</td>\n",
       "      <td>2</td>\n",
       "      <td>1</td>\n",
       "      <td>9</td>\n",
       "      <td>gini</td>\n",
       "      <td>{'n_estimators': 500, 'min_samples_split': 2, ...</td>\n",
       "      <td>0.449536</td>\n",
       "      <td>0.449374</td>\n",
       "      <td>0.457367</td>\n",
       "      <td>0.443508</td>\n",
       "      <td>0.458322</td>\n",
       "      <td>0.451621</td>\n",
       "      <td>0.005534</td>\n",
       "      <td>7</td>\n",
       "    </tr>\n",
       "  </tbody>\n",
       "</table>\n",
       "</div>"
      ],
      "text/plain": [
       "   mean_fit_time  std_fit_time  mean_score_time  std_score_time  \\\n",
       "3       6.732989      0.435415         0.088491        0.007265   \n",
       "7       6.388730      0.131007         0.088898        0.003706   \n",
       "0      12.738151      0.463922         0.148031        0.027065   \n",
       "4      36.554266      0.925941         0.367730        0.085381   \n",
       "8      13.106792      0.552139         0.143569        0.014573   \n",
       "6      57.519620      1.468206         0.468200        0.027219   \n",
       "1      62.668085     57.900618         0.265276        0.012255   \n",
       "2      34.729358      2.465991         0.266497        0.007858   \n",
       "5      28.039471      1.163817         0.265420        0.052676   \n",
       "9      32.234004      1.485450         0.278158        0.011702   \n",
       "\n",
       "  param_n_estimators param_min_samples_split param_min_samples_leaf  \\\n",
       "3                100                       3                      1   \n",
       "7                100                       4                      1   \n",
       "0                200                       2                      1   \n",
       "4                200                       5                      2   \n",
       "8                200                       2                      2   \n",
       "6                300                       2                      2   \n",
       "1                500                       3                      1   \n",
       "2                500                       4                      2   \n",
       "5                500                       4                      1   \n",
       "9                500                       2                      1   \n",
       "\n",
       "  param_max_depth param_criterion  \\\n",
       "3               9            gini   \n",
       "7               9            gini   \n",
       "0               9            gini   \n",
       "4            None            gini   \n",
       "8               9            gini   \n",
       "6            None            gini   \n",
       "1              10            gini   \n",
       "2              10            gini   \n",
       "5               8            gini   \n",
       "9               9            gini   \n",
       "\n",
       "                                              params  split0_test_score  \\\n",
       "3  {'n_estimators': 100, 'min_samples_split': 3, ...           0.453545   \n",
       "7  {'n_estimators': 100, 'min_samples_split': 4, ...           0.454021   \n",
       "0  {'n_estimators': 200, 'min_samples_split': 2, ...           0.450227   \n",
       "4  {'n_estimators': 200, 'min_samples_split': 5, ...           0.649443   \n",
       "8  {'n_estimators': 200, 'min_samples_split': 2, ...           0.445895   \n",
       "6  {'n_estimators': 300, 'min_samples_split': 2, ...           0.649774   \n",
       "1  {'n_estimators': 500, 'min_samples_split': 3, ...           0.464810   \n",
       "2  {'n_estimators': 500, 'min_samples_split': 4, ...           0.463111   \n",
       "5  {'n_estimators': 500, 'min_samples_split': 4, ...           0.440699   \n",
       "9  {'n_estimators': 500, 'min_samples_split': 2, ...           0.449536   \n",
       "\n",
       "   split1_test_score  split2_test_score  split3_test_score  split4_test_score  \\\n",
       "3           0.448898           0.457999           0.439104           0.453825   \n",
       "7           0.449870           0.461825           0.441026           0.463537   \n",
       "0           0.448159           0.456772           0.444031           0.468658   \n",
       "4           0.638216           0.636114           0.633838           0.632280   \n",
       "8           0.445215           0.454143           0.436408           0.454465   \n",
       "6           0.640381           0.641611           0.628188           0.631892   \n",
       "1           0.460600           0.462163           0.455479           0.463477   \n",
       "2           0.455227           0.456797           0.447911           0.457997   \n",
       "5           0.437453           0.448405           0.432877           0.443306   \n",
       "9           0.449374           0.457367           0.443508           0.458322   \n",
       "\n",
       "   mean_test_score  std_test_score  rank_test_score  \n",
       "3         0.450674        0.006463                8  \n",
       "7         0.454056        0.008217                5  \n",
       "0         0.453569        0.008595                6  \n",
       "4         0.637978        0.006076                2  \n",
       "8         0.447225        0.006680                9  \n",
       "6         0.638369        0.007619                1  \n",
       "1         0.461306        0.003230                3  \n",
       "2         0.456209        0.004919                4  \n",
       "5         0.440548        0.005250               10  \n",
       "9         0.451621        0.005534                7  "
      ]
     },
     "execution_count": 176,
     "metadata": {},
     "output_type": "execute_result"
    }
   ],
   "source": [
    "df_rfc_results_sorted_est"
   ]
  },
  {
   "cell_type": "code",
   "execution_count": 178,
   "id": "8c2a66b9-4da6-4d33-9806-21d38c714cf8",
   "metadata": {},
   "outputs": [
    {
     "data": {
      "image/png": "[encoded data removed]",
      "text/plain": [
       "<Figure size 1296x432 with 3 Axes>"
      ]
     },
     "metadata": {},
     "output_type": "display_data"
    }
   ],
   "source": [
    "fig, axs = plt.subplots(1, 3, figsize = (18, 6), facecolor = 'black')\n",
    "\n",
    "df_rfc_results_sorted_msl = df_rfc_results.sort_values(by = 'param_min_samples_leaf')\n",
    "colors_msl_rfc = ['red', 'red', 'red', 'red', 'red', 'red', 'red', 'green', 'green', 'red']\n",
    "axs[0].scatter(df_rfc_results_sorted_msl['param_min_samples_leaf'], df_rfc_results_sorted_msl['mean_test_score'], marker = 'o', s = 100, color = colors_msl_rfc)\n",
    "axs[0].set_title('Min. Samples Leaf', color = 'white', fontsize = 16)\n",
    "axs[0].set_xlabel('Number of Samples', color = 'white', fontsize = 12)\n",
    "axs[0].set_ylabel('Mean F1 Test Score', color = 'white', fontsize = 12)\n",
    "axs[0].tick_params(axis = 'x', colors = 'white', labelsize = 10)\n",
    "axs[0].set_xticks([1, 2])\n",
    "axs[0].tick_params(axis = 'y', colors = 'white', labelsize = 8)\n",
    "axs[0].grid(True)\n",
    "axs[0].text(1.95, 0.61, 'Optimal Min Samples Leaf: 2', color = 'red', ha = 'right', va = 'bottom')\n",
    "\n",
    "df_rfc_results_sorted_mss = df_rfc_results.sort_values(by = 'param_min_samples_split')\n",
    "colors_mss_rfc = ['red', 'green', 'red', 'red', 'red', 'red', 'red', 'red', 'red', 'green']\n",
    "axs[1].scatter(df_rfc_results_sorted_mss['param_min_samples_split'], df_rfc_results_sorted_mss['mean_test_score'], marker = 'o', s = 100, color = colors_mss_rfc)\n",
    "axs[1].set_title('Min Samples Split', color = 'white', fontsize = 16)\n",
    "axs[1].set_xlabel('Number of Samples', color = 'white', fontsize = 12)\n",
    "axs[1].set_ylabel('Mean F1 Test Score', color = 'white', fontsize = 12)\n",
    "axs[1].tick_params(axis = 'x', colors = 'white', labelsize = 10)\n",
    "axs[1].set_xticks([2, 3, 4, 5])\n",
    "axs[1].tick_params(axis = 'y', colors = 'white', labelsize = 8)\n",
    "axs[1].text(4.9, 0.61, 'Optimal Min Samples Split: 2', color = 'red', ha = 'right', va = 'bottom', zorder = 3)\n",
    "axs[1].grid(True)\n",
    "\n",
    "df_rfc_results_sorted_est = df_rfc_results.sort_values(by = 'param_n_estimators')\n",
    "colors_est_rfc = ['red', 'red', 'red', 'green', 'red', 'green', 'red', 'red', 'red', 'red']\n",
    "axs[2].scatter(df_rfc_results_sorted_est['param_n_estimators'], df_rfc_results_sorted_est['mean_test_score'], color = colors_est_rfc)\n",
    "axs[2].set_title('N Estimators', color = 'white', fontsize = 16)\n",
    "axs[2].set_xlabel('Number of Estimators', color = 'white', fontsize = 12)\n",
    "axs[2].set_ylabel('Mean F1 Test Score', color = 'white', fontsize = 12)\n",
    "axs[2].tick_params(axis = 'x', colors = 'white', labelsize = 10)\n",
    "axs[2].tick_params(axis = 'y', colors = 'white', labelsize = 8)\n",
    "axs[2].set_xticks([100, 200, 300, 400, 500])\n",
    "axs[2].text(295, 0.61, 'Optimal N Estimators: 300', color = 'red', ha = 'right', va = 'bottom', zorder = 3)\n",
    "axs[2].grid(True)\n",
    "\n",
    "plt.savefig('Images/rfc_hyperparamer_tuning_results.png')\n",
    "plt.show()"
   ]
  },
  {
   "cell_type": "markdown",
   "id": "0fac47f1-5019-4d96-81e2-c25d9814f249",
   "metadata": {},
   "source": [
    "#### Extra Trees Classifier\n",
    "\n",
    "Lastly, I examined Extra Trees Classifier.  This model performed the best "
   ]
  },
  {
   "cell_type": "code",
   "execution_count": 31,
   "id": "0e3ef1b3-81cb-4c5a-af4e-4fa6d207b2ec",
   "metadata": {},
   "outputs": [
    {
     "name": "stdout",
     "output_type": "stream",
     "text": [
      "Weighted F1 Score (Train): 0.990562519914399\n",
      "Weighted F1 Score (Test): 0.7223744445188811\n",
      "Log Loss (Train):  0.014785287311012446\n",
      "Log Loss (Test):  1.1654479598854746\n",
      "Runtime: 6 minutes, 8.36 seconds\n"
     ]
    }
   ],
   "source": [
    "start = time.time()\n",
    "\n",
    "etc = ExtraTreesClassifier(n_estimators = 200, random_state = 100)\n",
    "etc.fit(X_train_sub, y_train_sub)\n",
    "evaluate_model(etc, X_train_sub, X_test_sub, y_train_sub, y_test_sub)\n",
    "\n",
    "end = time.time()\n",
    "runtime(start, end)"
   ]
  },
  {
   "cell_type": "code",
   "execution_count": 32,
   "id": "e7679b29-43f5-423d-91b4-fb715efdbc18",
   "metadata": {},
   "outputs": [],
   "source": [
    "pickle.dump(etc, open('Models/extratrees_baseline.pkl', 'wb'))"
   ]
  },
  {
   "cell_type": "code",
   "execution_count": 33,
   "id": "11f22eba-dbe2-4696-a3c0-030f71ba5dd3",
   "metadata": {},
   "outputs": [
    {
     "name": "stdout",
     "output_type": "stream",
     "text": [
      "n_estimators = 100\n",
      "===============================\n",
      "Weighted F1 Score (Train): 0.990562519914399\n",
      "Weighted F1 Score (Test): 0.7203912696879069\n",
      "Log Loss (Train):  0.014785287311012446\n",
      "Log Loss (Test):  1.196694260969227\n",
      "Runtime: 3 minutes, 5.50 seconds\n",
      "n_estimators = 200\n",
      "===============================\n",
      "Weighted F1 Score (Train): 0.990562519914399\n",
      "Weighted F1 Score (Test): 0.7223744445188811\n",
      "Log Loss (Train):  0.014785287311012446\n",
      "Log Loss (Test):  1.1654479598854746\n",
      "Runtime: 6 minutes, 6.35 seconds\n",
      "n_estimators = 300\n",
      "===============================\n",
      "Weighted F1 Score (Train): 0.990562519914399\n",
      "Weighted F1 Score (Test): 0.7232537409404399\n",
      "Log Loss (Train):  0.014785287311012446\n",
      "Log Loss (Test):  1.1584679640903943\n",
      "Runtime: 9 minutes, 18.14 seconds\n",
      "n_estimators = 400\n",
      "===============================\n",
      "Weighted F1 Score (Train): 0.990562519914399\n",
      "Weighted F1 Score (Test): 0.7235271508221869\n",
      "Log Loss (Train):  0.014785287311012446\n",
      "Log Loss (Test):  1.1503314681477887\n",
      "Runtime: 12 minutes, 17.91 seconds\n",
      "n_estimators = 500\n",
      "===============================\n",
      "Weighted F1 Score (Train): 0.990562519914399\n",
      "Weighted F1 Score (Test): 0.7217009873284578\n",
      "Log Loss (Train):  0.014785287311012446\n",
      "Log Loss (Test):  1.150266788311091\n",
      "Runtime: 15 minutes, 16.29 seconds\n"
     ]
    }
   ],
   "source": [
    "etc_estimators = [100, 200, 300, 400, 500]\n",
    "for value in etc_estimators:\n",
    "    start = time.time()\n",
    "\n",
    "    etc = ExtraTreesClassifier(n_estimators = value, random_state = 100)\n",
    "    etc.fit(X_train_sub, y_train_sub)\n",
    "    print(f\"n_estimators = {value}\")\n",
    "    print(\"===============================\")\n",
    "    evaluate_model(etc, X_train_sub, X_test_sub, y_train_sub, y_test_sub)\n",
    "\n",
    "    end = time.time()\n",
    "    runtime(start, end)"
   ]
  },
  {
   "cell_type": "code",
   "execution_count": 188,
   "id": "93332a0d-ee9a-425f-aa3b-ceff7f07e977",
   "metadata": {},
   "outputs": [
    {
     "data": {
      "image/png": "[encoded data removed]",
      "text/plain": [
       "<Figure size 576x432 with 1 Axes>"
      ]
     },
     "metadata": {},
     "output_type": "display_data"
    }
   ],
   "source": [
    "etc_estimators = [100, 200, 300, 400, 500]\n",
    "etc_estimators_score = [0.720391, 0.722374, 0.723253, 0.723527, 0.721701]\n",
    "\n",
    "fig, ax = plt.subplots(figsize = (8, 6), facecolor = 'black')\n",
    "colors_etc = ['red', 'gold', 'greenyellow', 'green', 'darkorange']\n",
    "ax.scatter(etc_estimators, etc_estimators_score, marker = 'o', s = 100, color = colors_etc)\n",
    "ax.plot(etc_estimators, etc_estimators_score, color = 'black')\n",
    "ax.set_title('Extra Trees N Estimators', color = 'white', fontsize = 16)\n",
    "ax.set_xlabel('Number of Estimators', color = 'white', fontsize = 12)\n",
    "ax.set_ylabel('Mean F1 Test Score', color = 'white', fontsize = 12)\n",
    "ax.tick_params(axis = 'x', colors = 'white', labelsize = 10)\n",
    "ax.set_xticks([100, 200, 300, 400, 500])\n",
    "ax.tick_params(axis = 'y', colors = 'white', labelsize = 8)\n",
    "ax.grid(True)\n",
    "\n",
    "plt.savefig('Images/extra_trees_estimator_tuning.png')\n",
    "plt.tight_layout()\n",
    "plt.show()"
   ]
  },
  {
   "cell_type": "markdown",
   "id": "3aa9ab0a-5d9d-4213-9a74-848dc80416bb",
   "metadata": {},
   "source": [
    "#### Conclusion\n",
    "\n",
    "Model Selection - Amongst those I tested, XGBoost, Random Forest Classifier, and Extra Trees Classifier were the 3 models that performed the best and are the ones I will be using in the final notebook.\n",
    "\n",
    "Hyperparameters - I found the following optimal parameter values for each of these models:\n",
    "\n",
    "Next Steps - In the final notebook, I will be combining these models together using either a Voting Classifier or a Stacking method to obtain the best possible results.  I will also run the above models using the full data set."
   ]
  },
  {
   "cell_type": "code",
   "execution_count": null,
   "id": "52b71f89-37ee-4693-b1c6-0e51a718673c",
   "metadata": {},
   "outputs": [],
   "source": []
  }
 ],
 "metadata": {
  "kernelspec": {
   "display_name": "Python (learn-env)",
   "language": "python",
   "name": "learn-env"
  },
  "language_info": {
   "codemirror_mode": {
    "name": "ipython",
    "version": 3
   },
   "file_extension": ".py",
   "mimetype": "text/x-python",
   "name": "python",
   "nbconvert_exporter": "python",
   "pygments_lexer": "ipython3",
   "version": "3.8.5"
  }
 },
 "nbformat": 4,
 "nbformat_minor": 5
}
