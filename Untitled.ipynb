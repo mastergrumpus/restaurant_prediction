{
 "cells": [
  {
   "cell_type": "code",
   "execution_count": 1,
   "id": "bc8fa26d-39fc-4f14-a9ce-8223dabfafc6",
   "metadata": {},
   "outputs": [],
   "source": [
    "import pandas as pd\n",
    "import numpy as np\n",
    "import json"
   ]
  },
  {
   "cell_type": "code",
   "execution_count": 10,
   "id": "438b5d2b-6b46-4eeb-87b2-4ed533daef0d",
   "metadata": {},
   "outputs": [],
   "source": [
    "data_yelp_business = open('Data/yelp_academic_dataset_business.json', encoding = 'utf-8')\n",
    "data_business = []\n",
    "for line in data_yelp_business:\n",
    "    data_business.append(json.loads(line))\n",
    "business_df = pd.DataFrame(data_business)\n",
    "data_yelp_business.close()"
   ]
  },
  {
   "cell_type": "code",
   "execution_count": 12,
   "id": "757ce7d7-131e-4769-8eba-6f9f5ecf0544",
   "metadata": {},
   "outputs": [
    {
     "data": {
      "text/plain": [
       "93101    1866\n",
       "89502    1804\n",
       "70130    1512\n",
       "19103    1362\n",
       "19107    1353\n",
       "         ... \n",
       "62656       1\n",
       "33746       1\n",
       "46036       1\n",
       "63386       1\n",
       "70017       1\n",
       "Name: postal_code, Length: 1201, dtype: Int64"
      ]
     },
     "execution_count": 12,
     "metadata": {},
     "output_type": "execute_result"
    }
   ],
   "source": [
    "business_df['postal_code'] = pd.to_numeric(business_df['postal_code'], errors='coerce')\n",
    "business_df['postal_code'] = business_df['postal_code'].astype('Int64')\n",
    "business_df = business_df.dropna(subset=['postal_code'])\n",
    "business_df = business_df[business_df['postal_code'].apply(lambda x: len(str(x)) == 5 or len(str(x)) == 4)]\n",
    "business_df['postal_code'].value_counts()"
   ]
  },
  {
   "cell_type": "code",
   "execution_count": 16,
   "id": "32b6bff8-7432-45ab-80f2-9b907bfaec0d",
   "metadata": {},
   "outputs": [
    {
     "name": "stdout",
     "output_type": "stream",
     "text": [
      "93101    1866\n",
      "89502    1804\n",
      "70130    1512\n",
      "19103    1362\n",
      "19107    1353\n",
      "19147    1255\n",
      "37203    1179\n",
      "85705    1069\n",
      "33511     940\n",
      "89431     915\n",
      "93117     901\n",
      "46032     888\n",
      "19106     851\n",
      "85719     835\n",
      "89511     830\n",
      "70115     816\n",
      "85712     813\n",
      "33607     796\n",
      "19104     777\n",
      "93105     770\n",
      "85711     747\n",
      "37067     739\n",
      "83642     737\n",
      "46220     720\n",
      "46204     718\n",
      "19406     703\n",
      "83702     698\n",
      "37211     684\n",
      "89509     676\n",
      "70116     672\n",
      "33701     667\n",
      "19148     659\n",
      "37027     651\n",
      "33602     650\n",
      "89501     644\n",
      "33609     643\n",
      "85710     637\n",
      "85704     622\n",
      "37214     617\n",
      "70119     604\n",
      "46250     603\n",
      "19102     600\n",
      "37064     599\n",
      "33618     598\n",
      "33612     581\n",
      "19123     570\n",
      "70002     566\n",
      "37209     556\n",
      "85741     531\n",
      "46240     517\n",
      "33606     510\n",
      "85716     508\n",
      "83704     504\n",
      "33629     498\n",
      "34698     490\n",
      "37075     485\n",
      "8053      482\n",
      "19020     470\n",
      "18901     465\n",
      "37206     456\n",
      "33706     455\n",
      "19146     452\n",
      "89521     448\n",
      "8002      447\n",
      "33614     438\n",
      "89503     438\n",
      "70118     436\n",
      "70112     435\n",
      "19130     434\n",
      "19382     433\n",
      "19125     429\n",
      "46038     423\n",
      "19087     423\n",
      "19341     422\n",
      "33781     416\n",
      "46227     416\n",
      "33647     414\n",
      "33611     413\n",
      "8054      412\n",
      "63141     408\n",
      "37204     408\n",
      "37215     408\n",
      "63122     408\n",
      "46142     405\n",
      "19380     404\n",
      "33710     402\n",
      "46268     399\n",
      "83709     399\n",
      "46202     397\n",
      "93103     396\n",
      "63119     392\n",
      "19446     392\n",
      "63108     389\n",
      "33578     388\n",
      "37122     387\n",
      "19128     387\n",
      "83706     385\n",
      "34689     385\n",
      "33619     380\n",
      "19063     377\n"
     ]
    }
   ],
   "source": [
    "zip_codes = business_df['postal_code'].value_counts()\n",
    "top100_zip_codes = zip_codes.head(100)\n",
    "print(top100_zip_codes.to_string())"
   ]
  },
  {
   "cell_type": "code",
   "execution_count": 14,
   "id": "fabe9a41-c9c9-4929-8856-09ed5324240b",
   "metadata": {},
   "outputs": [
    {
     "name": "stdout",
     "output_type": "stream",
     "text": [
      "<class 'pandas.core.frame.DataFrame'>\n",
      "Int64Index: 62089 entries, 0 to 150343\n",
      "Data columns (total 14 columns):\n",
      " #   Column        Non-Null Count  Dtype  \n",
      "---  ------        --------------  -----  \n",
      " 0   business_id   62089 non-null  object \n",
      " 1   name          62089 non-null  object \n",
      " 2   address       62089 non-null  object \n",
      " 3   city          62089 non-null  object \n",
      " 4   state         62089 non-null  object \n",
      " 5   postal_code   62089 non-null  Int64  \n",
      " 6   latitude      62089 non-null  float64\n",
      " 7   longitude     62089 non-null  float64\n",
      " 8   stars         62089 non-null  float64\n",
      " 9   review_count  62089 non-null  int64  \n",
      " 10  is_open       62089 non-null  int64  \n",
      " 11  attributes    56676 non-null  object \n",
      " 12  categories    62053 non-null  object \n",
      " 13  hours         52728 non-null  object \n",
      "dtypes: Int64(1), float64(3), int64(2), object(8)\n",
      "memory usage: 7.2+ MB\n"
     ]
    }
   ],
   "source": [
    "business_df = business_df[business_df['postal_code'].isin(top100_zip_codes.index)]\n",
    "business_df.info()"
   ]
  },
  {
   "cell_type": "code",
   "execution_count": 123,
   "id": "6ee20552-52ca-45e3-817e-5035476e7cfe",
   "metadata": {},
   "outputs": [],
   "source": [
    "def split_into_list(string):\n",
    "    category_list = string.split(',')\n",
    "    category_list = [x.strip() for x in category_list]\n",
    "    return category_list\n",
    "def is_a_restaurant(lst):\n",
    "    return any(\"Restaurants\" in x for x in lst)\n",
    "\n",
    "business_df['categories'] = business_df['categories'].astype(str)\n",
    "business_df['categories'] = business_df['categories'].apply(split_into_list)\n",
    "mask = business_df['categories'].apply(is_a_restaurant)\n",
    "restaurant_df = business_df[mask]"
   ]
  },
  {
   "cell_type": "code",
   "execution_count": 124,
   "id": "a041cdbd-1fb9-440f-861e-df437da3ff85",
   "metadata": {},
   "outputs": [
    {
     "name": "stdout",
     "output_type": "stream",
     "text": [
      "<class 'pandas.core.frame.DataFrame'>\n",
      "Int64Index: 20059 entries, 3 to 150336\n",
      "Data columns (total 14 columns):\n",
      " #   Column        Non-Null Count  Dtype  \n",
      "---  ------        --------------  -----  \n",
      " 0   business_id   20059 non-null  object \n",
      " 1   name          20059 non-null  object \n",
      " 2   address       20059 non-null  object \n",
      " 3   city          20059 non-null  object \n",
      " 4   state         20059 non-null  object \n",
      " 5   postal_code   20059 non-null  Int64  \n",
      " 6   latitude      20059 non-null  float64\n",
      " 7   longitude     20059 non-null  float64\n",
      " 8   stars         20059 non-null  float64\n",
      " 9   review_count  20059 non-null  int64  \n",
      " 10  is_open       20059 non-null  int64  \n",
      " 11  attributes    19870 non-null  object \n",
      " 12  categories    20059 non-null  object \n",
      " 13  hours         17410 non-null  object \n",
      "dtypes: Int64(1), float64(3), int64(2), object(8)\n",
      "memory usage: 2.3+ MB\n"
     ]
    }
   ],
   "source": [
    "restaurant_df.info()"
   ]
  },
  {
   "cell_type": "code",
   "execution_count": 2,
   "id": "c7d3cd19-2d3c-4519-a093-27eb1cfeb140",
   "metadata": {},
   "outputs": [
    {
     "ename": "JSONDecodeError",
     "evalue": "Expecting property name enclosed in double quotes: line 2 column 1 (char 2)",
     "output_type": "error",
     "traceback": [
      "\u001b[1;31m---------------------------------------------------------------------------\u001b[0m",
      "\u001b[1;31mJSONDecodeError\u001b[0m                           Traceback (most recent call last)",
      "\u001b[1;32m<ipython-input-2-40baac366999>\u001b[0m in \u001b[0;36m<module>\u001b[1;34m\u001b[0m\n\u001b[0;32m      2\u001b[0m \u001b[0mdata_recall\u001b[0m \u001b[1;33m=\u001b[0m \u001b[1;33m[\u001b[0m\u001b[1;33m]\u001b[0m\u001b[1;33m\u001b[0m\u001b[1;33m\u001b[0m\u001b[0m\n\u001b[0;32m      3\u001b[0m \u001b[1;32mfor\u001b[0m \u001b[0mline\u001b[0m \u001b[1;32min\u001b[0m \u001b[0mdata_recall_fda\u001b[0m\u001b[1;33m:\u001b[0m\u001b[1;33m\u001b[0m\u001b[1;33m\u001b[0m\u001b[0m\n\u001b[1;32m----> 4\u001b[1;33m     \u001b[0mdata_recall\u001b[0m\u001b[1;33m.\u001b[0m\u001b[0mappend\u001b[0m\u001b[1;33m(\u001b[0m\u001b[0mjson\u001b[0m\u001b[1;33m.\u001b[0m\u001b[0mloads\u001b[0m\u001b[1;33m(\u001b[0m\u001b[0mline\u001b[0m\u001b[1;33m)\u001b[0m\u001b[1;33m)\u001b[0m\u001b[1;33m\u001b[0m\u001b[1;33m\u001b[0m\u001b[0m\n\u001b[0m\u001b[0;32m      5\u001b[0m \u001b[0mrecall_df\u001b[0m \u001b[1;33m=\u001b[0m \u001b[0mpd\u001b[0m\u001b[1;33m.\u001b[0m\u001b[0mDataFrame\u001b[0m\u001b[1;33m(\u001b[0m\u001b[0mdata_recall\u001b[0m\u001b[1;33m)\u001b[0m\u001b[1;33m\u001b[0m\u001b[1;33m\u001b[0m\u001b[0m\n\u001b[0;32m      6\u001b[0m \u001b[0mdata_recall_fda\u001b[0m\u001b[1;33m.\u001b[0m\u001b[0mclose\u001b[0m\u001b[1;33m(\u001b[0m\u001b[1;33m)\u001b[0m\u001b[1;33m\u001b[0m\u001b[1;33m\u001b[0m\u001b[0m\n",
      "\u001b[1;32m~\\anaconda3\\envs\\learn-env\\lib\\json\\__init__.py\u001b[0m in \u001b[0;36mloads\u001b[1;34m(s, cls, object_hook, parse_float, parse_int, parse_constant, object_pairs_hook, **kw)\u001b[0m\n\u001b[0;32m    355\u001b[0m             \u001b[0mparse_int\u001b[0m \u001b[1;32mis\u001b[0m \u001b[1;32mNone\u001b[0m \u001b[1;32mand\u001b[0m \u001b[0mparse_float\u001b[0m \u001b[1;32mis\u001b[0m \u001b[1;32mNone\u001b[0m \u001b[1;32mand\u001b[0m\u001b[1;33m\u001b[0m\u001b[1;33m\u001b[0m\u001b[0m\n\u001b[0;32m    356\u001b[0m             parse_constant is None and object_pairs_hook is None and not kw):\n\u001b[1;32m--> 357\u001b[1;33m         \u001b[1;32mreturn\u001b[0m \u001b[0m_default_decoder\u001b[0m\u001b[1;33m.\u001b[0m\u001b[0mdecode\u001b[0m\u001b[1;33m(\u001b[0m\u001b[0ms\u001b[0m\u001b[1;33m)\u001b[0m\u001b[1;33m\u001b[0m\u001b[1;33m\u001b[0m\u001b[0m\n\u001b[0m\u001b[0;32m    358\u001b[0m     \u001b[1;32mif\u001b[0m \u001b[0mcls\u001b[0m \u001b[1;32mis\u001b[0m \u001b[1;32mNone\u001b[0m\u001b[1;33m:\u001b[0m\u001b[1;33m\u001b[0m\u001b[1;33m\u001b[0m\u001b[0m\n\u001b[0;32m    359\u001b[0m         \u001b[0mcls\u001b[0m \u001b[1;33m=\u001b[0m \u001b[0mJSONDecoder\u001b[0m\u001b[1;33m\u001b[0m\u001b[1;33m\u001b[0m\u001b[0m\n",
      "\u001b[1;32m~\\anaconda3\\envs\\learn-env\\lib\\json\\decoder.py\u001b[0m in \u001b[0;36mdecode\u001b[1;34m(self, s, _w)\u001b[0m\n\u001b[0;32m    335\u001b[0m \u001b[1;33m\u001b[0m\u001b[0m\n\u001b[0;32m    336\u001b[0m         \"\"\"\n\u001b[1;32m--> 337\u001b[1;33m         \u001b[0mobj\u001b[0m\u001b[1;33m,\u001b[0m \u001b[0mend\u001b[0m \u001b[1;33m=\u001b[0m \u001b[0mself\u001b[0m\u001b[1;33m.\u001b[0m\u001b[0mraw_decode\u001b[0m\u001b[1;33m(\u001b[0m\u001b[0ms\u001b[0m\u001b[1;33m,\u001b[0m \u001b[0midx\u001b[0m\u001b[1;33m=\u001b[0m\u001b[0m_w\u001b[0m\u001b[1;33m(\u001b[0m\u001b[0ms\u001b[0m\u001b[1;33m,\u001b[0m \u001b[1;36m0\u001b[0m\u001b[1;33m)\u001b[0m\u001b[1;33m.\u001b[0m\u001b[0mend\u001b[0m\u001b[1;33m(\u001b[0m\u001b[1;33m)\u001b[0m\u001b[1;33m)\u001b[0m\u001b[1;33m\u001b[0m\u001b[1;33m\u001b[0m\u001b[0m\n\u001b[0m\u001b[0;32m    338\u001b[0m         \u001b[0mend\u001b[0m \u001b[1;33m=\u001b[0m \u001b[0m_w\u001b[0m\u001b[1;33m(\u001b[0m\u001b[0ms\u001b[0m\u001b[1;33m,\u001b[0m \u001b[0mend\u001b[0m\u001b[1;33m)\u001b[0m\u001b[1;33m.\u001b[0m\u001b[0mend\u001b[0m\u001b[1;33m(\u001b[0m\u001b[1;33m)\u001b[0m\u001b[1;33m\u001b[0m\u001b[1;33m\u001b[0m\u001b[0m\n\u001b[0;32m    339\u001b[0m         \u001b[1;32mif\u001b[0m \u001b[0mend\u001b[0m \u001b[1;33m!=\u001b[0m \u001b[0mlen\u001b[0m\u001b[1;33m(\u001b[0m\u001b[0ms\u001b[0m\u001b[1;33m)\u001b[0m\u001b[1;33m:\u001b[0m\u001b[1;33m\u001b[0m\u001b[1;33m\u001b[0m\u001b[0m\n",
      "\u001b[1;32m~\\anaconda3\\envs\\learn-env\\lib\\json\\decoder.py\u001b[0m in \u001b[0;36mraw_decode\u001b[1;34m(self, s, idx)\u001b[0m\n\u001b[0;32m    351\u001b[0m         \"\"\"\n\u001b[0;32m    352\u001b[0m         \u001b[1;32mtry\u001b[0m\u001b[1;33m:\u001b[0m\u001b[1;33m\u001b[0m\u001b[1;33m\u001b[0m\u001b[0m\n\u001b[1;32m--> 353\u001b[1;33m             \u001b[0mobj\u001b[0m\u001b[1;33m,\u001b[0m \u001b[0mend\u001b[0m \u001b[1;33m=\u001b[0m \u001b[0mself\u001b[0m\u001b[1;33m.\u001b[0m\u001b[0mscan_once\u001b[0m\u001b[1;33m(\u001b[0m\u001b[0ms\u001b[0m\u001b[1;33m,\u001b[0m \u001b[0midx\u001b[0m\u001b[1;33m)\u001b[0m\u001b[1;33m\u001b[0m\u001b[1;33m\u001b[0m\u001b[0m\n\u001b[0m\u001b[0;32m    354\u001b[0m         \u001b[1;32mexcept\u001b[0m \u001b[0mStopIteration\u001b[0m \u001b[1;32mas\u001b[0m \u001b[0merr\u001b[0m\u001b[1;33m:\u001b[0m\u001b[1;33m\u001b[0m\u001b[1;33m\u001b[0m\u001b[0m\n\u001b[0;32m    355\u001b[0m             \u001b[1;32mraise\u001b[0m \u001b[0mJSONDecodeError\u001b[0m\u001b[1;33m(\u001b[0m\u001b[1;34m\"Expecting value\"\u001b[0m\u001b[1;33m,\u001b[0m \u001b[0ms\u001b[0m\u001b[1;33m,\u001b[0m \u001b[0merr\u001b[0m\u001b[1;33m.\u001b[0m\u001b[0mvalue\u001b[0m\u001b[1;33m)\u001b[0m \u001b[1;32mfrom\u001b[0m \u001b[1;32mNone\u001b[0m\u001b[1;33m\u001b[0m\u001b[1;33m\u001b[0m\u001b[0m\n",
      "\u001b[1;31mJSONDecodeError\u001b[0m: Expecting property name enclosed in double quotes: line 2 column 1 (char 2)"
     ]
    }
   ],
   "source": [
    "data_recall_fda = open('Data/food-enforcement-0001-of-0001.json', encoding = 'utf-8')\n",
    "data_recall = []\n",
    "for line in data_recall_fda:\n",
    "    data_recall.append(json.loads(line))\n",
    "recall_df = pd.DataFrame(data_recall)\n",
    "data_recall_fda.close()"
   ]
  },
  {
   "cell_type": "code",
   "execution_count": null,
   "id": "8717ff95-38cf-4ba5-b2ae-a06c423270bc",
   "metadata": {},
   "outputs": [],
   "source": []
  }
 ],
 "metadata": {
  "kernelspec": {
   "display_name": "Python (learn-env)",
   "language": "python",
   "name": "learn-env"
  },
  "language_info": {
   "codemirror_mode": {
    "name": "ipython",
    "version": 3
   },
   "file_extension": ".py",
   "mimetype": "text/x-python",
   "name": "python",
   "nbconvert_exporter": "python",
   "pygments_lexer": "ipython3",
   "version": "3.8.5"
  }
 },
 "nbformat": 4,
 "nbformat_minor": 5
}
