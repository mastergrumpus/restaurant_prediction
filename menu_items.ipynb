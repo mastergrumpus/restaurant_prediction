{
 "cells": [
  {
   "cell_type": "code",
   "execution_count": 1,
   "id": "1b0d8ad7-80f4-4263-9c5e-3e591871c40e",
   "metadata": {},
   "outputs": [],
   "source": [
    "import pandas as pd"
   ]
  },
  {
   "cell_type": "code",
   "execution_count": 13,
   "id": "25e87473-7a1e-4300-b48f-cfbc65525488",
   "metadata": {},
   "outputs": [],
   "source": [
    "df = pd.read_csv('Data/menu_items.csv', low_memory = False)"
   ]
  },
  {
   "cell_type": "code",
   "execution_count": 18,
   "id": "1e7e2329-c19f-4b91-9846-d298df9af903",
   "metadata": {},
   "outputs": [],
   "source": [
    "relevant_columns = ['Restaurant_Item_Name', 'restaurant', 'Item_Name', 'Item_Description', 'Food_Category', 'Sugar']\n",
    "df_relevant = df.loc[:, relevant_columns]\n",
    "df_relevant.dropna(inplace = True)"
   ]
  },
  {
   "cell_type": "code",
   "execution_count": 20,
   "id": "74671707-6363-4ea1-b47f-9f736b73fe23",
   "metadata": {},
   "outputs": [
    {
     "data": {
      "text/html": [
       "<div>\n",
       "<style scoped>\n",
       "    .dataframe tbody tr th:only-of-type {\n",
       "        vertical-align: middle;\n",
       "    }\n",
       "\n",
       "    .dataframe tbody tr th {\n",
       "        vertical-align: top;\n",
       "    }\n",
       "\n",
       "    .dataframe thead th {\n",
       "        text-align: right;\n",
       "    }\n",
       "</style>\n",
       "<table border=\"1\" class=\"dataframe\">\n",
       "  <thead>\n",
       "    <tr style=\"text-align: right;\">\n",
       "      <th></th>\n",
       "      <th>Sugar</th>\n",
       "    </tr>\n",
       "  </thead>\n",
       "  <tbody>\n",
       "    <tr>\n",
       "      <th>count</th>\n",
       "      <td>52931.000000</td>\n",
       "    </tr>\n",
       "    <tr>\n",
       "      <th>mean</th>\n",
       "      <td>21.902446</td>\n",
       "    </tr>\n",
       "    <tr>\n",
       "      <th>std</th>\n",
       "      <td>34.088833</td>\n",
       "    </tr>\n",
       "    <tr>\n",
       "      <th>min</th>\n",
       "      <td>0.000000</td>\n",
       "    </tr>\n",
       "    <tr>\n",
       "      <th>25%</th>\n",
       "      <td>2.000000</td>\n",
       "    </tr>\n",
       "    <tr>\n",
       "      <th>50%</th>\n",
       "      <td>7.000000</td>\n",
       "    </tr>\n",
       "    <tr>\n",
       "      <th>75%</th>\n",
       "      <td>30.000000</td>\n",
       "    </tr>\n",
       "    <tr>\n",
       "      <th>max</th>\n",
       "      <td>783.000000</td>\n",
       "    </tr>\n",
       "  </tbody>\n",
       "</table>\n",
       "</div>"
      ],
      "text/plain": [
       "              Sugar\n",
       "count  52931.000000\n",
       "mean      21.902446\n",
       "std       34.088833\n",
       "min        0.000000\n",
       "25%        2.000000\n",
       "50%        7.000000\n",
       "75%       30.000000\n",
       "max      783.000000"
      ]
     },
     "execution_count": 20,
     "metadata": {},
     "output_type": "execute_result"
    }
   ],
   "source": [
    "df_relevant.describe()"
   ]
  },
  {
   "cell_type": "code",
   "execution_count": 24,
   "id": "28571eb3-2edf-4c24-9494-46ea2d7e852e",
   "metadata": {},
   "outputs": [
    {
     "data": {
      "text/plain": [
       "Serving_Size_Unit\n",
       "g        10053\n",
       "fl oz     8292\n",
       "oz        4625\n",
       "Name: count, dtype: int64"
      ]
     },
     "execution_count": 24,
     "metadata": {},
     "output_type": "execute_result"
    }
   ],
   "source": [
    "df_relevant['Serving_Size_Unit'].value_counts()"
   ]
  },
  {
   "cell_type": "code",
   "execution_count": 19,
   "id": "b34538ee-22e5-4b0a-8688-1b554dfc78f8",
   "metadata": {},
   "outputs": [
    {
     "name": "stdout",
     "output_type": "stream",
     "text": [
      "Starbucks: 3562\n",
      "Jersey Mike's Subs: 1582\n",
      "Dunkin' Donuts: 1410\n",
      "Golden Corral: 1339\n",
      "Perkins: 926\n",
      "Dominos: 819\n",
      "Wawa: 797\n",
      "White Castle: 699\n",
      "Baskin Robbins: 642\n",
      "Whataburger: 631\n",
      "Jack in the Box: 518\n",
      "Einstein Bros: 511\n",
      "Tim Hortons: 496\n",
      "Round Table Pizza: 418\n",
      "Frisch's Big Boy: 415\n",
      "Subway: 413\n",
      "Papa John's: 397\n",
      "Denny's: 395\n",
      "Auntie Anne's: 371\n",
      "Bob Evans: 347\n",
      "Carl's Jr.: 342\n",
      "Burger King: 318\n",
      "Krispy Kreme: 284\n",
      "El Pollo Loco: 278\n",
      "Culver's: 263\n",
      "Arby's: 261\n",
      "Panda Express: 250\n",
      "Zaxby's: 241\n",
      "Taco Bell: 220\n",
      "Church's Chicken: 218\n",
      "Del Taco: 216\n",
      "Steak 'N Shake: 214\n",
      "KFC: 207\n",
      "Chili's: 205\n",
      "Panera Bread: 189\n",
      "Long John Silver's: 173\n",
      "IHOP: 151\n",
      "Pizza Hut: 145\n",
      "Qdoba: 142\n",
      "Krystal: 129\n",
      "Chipotle: 127\n",
      "Jamba Juice: 114\n",
      "Popeyes: 109\n",
      "Hardee's: 103\n",
      "McAlister's Deli: 100\n",
      "Red Robin: 89\n",
      "Bojangles: 88\n",
      "California Pizza Kitchen: 81\n",
      "Boston Market: 75\n",
      "Applebee's: 72\n",
      "Famous Dave's: 71\n",
      "Checker's Drive-In/Rallys: 66\n",
      "Jason's Deli: 57\n",
      "Papa Murphy's: 57\n",
      "O'Charley's: 53\n",
      "Five Guys: 51\n",
      "Joe's Crab Shack: 45\n",
      "LongHorn Steakhouse: 45\n",
      "In-N-Out Burger: 40\n",
      "Casey's General Store: 35\n",
      "The Capital Grille: 26\n",
      "Captain D's: 22\n",
      "7 Eleven: 22\n",
      "Bonefish Grill: 22\n",
      "Ci Ci's Pizza: 22\n",
      "Chuck E. Cheese: 21\n",
      "Red Lobster: 20\n",
      "TGI Friday's: 19\n",
      "Carrabba's Italian Grill: 18\n",
      "Little Caesars: 17\n",
      "Yard House: 17\n",
      "Dairy Queen: 14\n",
      "Hooters: 14\n",
      "Marco's Pizza: 14\n",
      "Sbarro: 14\n",
      "Potbelly Sandwich Shop: 13\n",
      "Wingstop: 11\n",
      "McDonald's: 11\n",
      "Sonic: 10\n",
      "Quiznos: 10\n",
      "Dickey's Barbeque Pit: 6\n",
      "Olive Garden: 5\n",
      "Wendy's: 5\n",
      "Outback Steakhouse: 3\n",
      "PF Chang's: 1\n",
      "Sheetz: 1\n"
     ]
    }
   ],
   "source": [
    "value_counts = df_relevant['restaurant'].value_counts()\n",
    "for value, count in value_counts.items():\n",
    "    print(f'{value}: {count}')"
   ]
  },
  {
   "cell_type": "code",
   "execution_count": 28,
   "id": "cb9cee6d-6b58-4e0d-a1e5-ecc37b85450b",
   "metadata": {},
   "outputs": [
    {
     "data": {
      "text/plain": [
       "Sugar\n",
       "0.0      9561\n",
       "2.0      3647\n",
       "1.0      3314\n",
       "3.0      2789\n",
       "4.0      2315\n",
       "         ... \n",
       "5.3         1\n",
       "20.2        1\n",
       "161.8       1\n",
       "3.6         1\n",
       "17.7        1\n",
       "Name: count, Length: 460, dtype: int64"
      ]
     },
     "execution_count": 28,
     "metadata": {},
     "output_type": "execute_result"
    }
   ],
   "source": [
    "df_relevant['Sugar'].value_counts()"
   ]
  },
  {
   "cell_type": "code",
   "execution_count": null,
   "id": "cbec04f6-b1ef-47dc-8cfd-2f6a2489f11f",
   "metadata": {},
   "outputs": [],
   "source": []
  }
 ],
 "metadata": {
  "kernelspec": {
   "display_name": "Python 3 (ipykernel)",
   "language": "python",
   "name": "python3"
  },
  "language_info": {
   "codemirror_mode": {
    "name": "ipython",
    "version": 3
   },
   "file_extension": ".py",
   "mimetype": "text/x-python",
   "name": "python",
   "nbconvert_exporter": "python",
   "pygments_lexer": "ipython3",
   "version": "3.11.5"
  }
 },
 "nbformat": 4,
 "nbformat_minor": 5
}
